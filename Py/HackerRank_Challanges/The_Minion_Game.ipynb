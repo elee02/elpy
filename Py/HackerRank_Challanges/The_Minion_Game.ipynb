{
 "cells": [
  {
   "cell_type": "code",
   "execution_count": null,
   "metadata": {},
   "outputs": [],
   "source": [
    "def minion_game(string):\n",
    "    # your code goes here\n",
    "    consonant = \"bcdfghjklmnpqrstvwxyz\".upper()\n",
    "    vowel = \"aeiou\".upper()\n",
    "    numStuart = 0\n",
    "    numKevin = 0\n",
    "    for idx, let in enumerate(string):\n",
    "        if let in consonant:\n",
    "            numStuart += len(string) - idx\n",
    "        if let in vowel:\n",
    "            numKevin += len(string) - idx\n",
    "    if numStuart > numKevin:\n",
    "        print(\"Stuart \", numStuart)\n",
    "    elif numKevin > numStuart:\n",
    "        print(\"Kevin \", numKevin)\n",
    "    else:\n",
    "        print(\"Draw\")"
   ]
  },
  {
   "cell_type": "code",
   "execution_count": 4,
   "metadata": {},
   "outputs": [
    {
     "name": "stdout",
     "output_type": "stream",
     "text": [
      "Draw\n"
     ]
    }
   ],
   "source": [
    "if __name__ == '__main__':\n",
    "    s = input()\n",
    "    minion_game(s)"
   ]
  }
 ],
 "metadata": {
  "kernelspec": {
   "display_name": ".elnv",
   "language": "python",
   "name": "python3"
  },
  "language_info": {
   "codemirror_mode": {
    "name": "ipython",
    "version": 3
   },
   "file_extension": ".py",
   "mimetype": "text/x-python",
   "name": "python",
   "nbconvert_exporter": "python",
   "pygments_lexer": "ipython3",
   "version": "3.8.9"
  },
  "orig_nbformat": 4
 },
 "nbformat": 4,
 "nbformat_minor": 2
}
