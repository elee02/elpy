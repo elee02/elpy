{
 "cells": [
  {
   "cell_type": "markdown",
   "metadata": {},
   "source": [
    "# Variable Creation"
   ]
  },
  {
   "cell_type": "code",
   "execution_count": 2,
   "metadata": {},
   "outputs": [
    {
     "name": "stdout",
     "output_type": "stream",
     "text": [
      "My favorite city: Incheon\n",
      "My age: 21\n",
      "Pi: 3.14\n"
     ]
    }
   ],
   "source": [
    "city = \"Incheon\"\n",
    "my_age = 21\n",
    "pi_value = 3.14\n",
    "print(f'My favorite city: {city}', f'My age: {my_age}', f'Pi: {pi_value}', sep = \"\\n\")"
   ]
  },
  {
   "cell_type": "markdown",
   "metadata": {},
   "source": [
    "# Data Type Conversion"
   ]
  },
  {
   "cell_type": "code",
   "execution_count": 5,
   "metadata": {},
   "outputs": [
    {
     "name": "stdout",
     "output_type": "stream",
     "text": [
      "<class 'int'>\n",
      "<class 'float'>\n"
     ]
    }
   ],
   "source": [
    "num_str = \"12345\"\n",
    "num_int = int(num_str)\n",
    "print(type(num_int))\n",
    "\n",
    "float_str = \"3.14\"\n",
    "float_num = float(float_str)\n",
    "print(type(float_num))"
   ]
  },
  {
   "cell_type": "markdown",
   "metadata": {},
   "source": [
    "# Operators"
   ]
  },
  {
   "cell_type": "markdown",
   "metadata": {},
   "source": [
    "## Arithmetic Operators"
   ]
  },
  {
   "cell_type": "code",
   "execution_count": 7,
   "metadata": {},
   "outputs": [
    {
     "name": "stdout",
     "output_type": "stream",
     "text": [
      "Addition: 19\n",
      "Subtraction: 11\n",
      "Multiplication: 60\n",
      "Division: 3.75\n"
     ]
    }
   ],
   "source": [
    "n1= 15\n",
    "n2= 4\n",
    "print(f'Addition: {n1+n2}', \n",
    "      f'Subtraction: {n1-n2}', \n",
    "      f'Multiplication: {n1*n2}',\n",
    "      f'Division: {n1/n2}', sep=\"\\n\")"
   ]
  },
  {
   "cell_type": "markdown",
   "metadata": {},
   "source": [
    "## Comparison Operators"
   ]
  },
  {
   "cell_type": "code",
   "execution_count": 8,
   "metadata": {},
   "outputs": [
    {
     "name": "stdout",
     "output_type": "stream",
     "text": [
      "True\n",
      "True\n"
     ]
    }
   ],
   "source": [
    "print(7*3==21)\n",
    "print(3.5<5.5<6.5)"
   ]
  },
  {
   "cell_type": "markdown",
   "metadata": {},
   "source": [
    "# Lists"
   ]
  },
  {
   "cell_type": "markdown",
   "metadata": {},
   "source": [
    "## List creation and access"
   ]
  },
  {
   "cell_type": "code",
   "execution_count": 12,
   "metadata": {},
   "outputs": [
    {
     "name": "stdout",
     "output_type": "stream",
     "text": [
      "First item: watermelon\n",
      "Second item: tangerine\n",
      "Last item: apricot\n",
      "Second-to-last item: banana\n"
     ]
    }
   ],
   "source": [
    "fruits= [\"apple\", \"watermelon\", \"tangerine\", \"banana\", \"apricot\"]\n",
    "print(f'First item: {fruits[1]}',\n",
    "      f'Second item: {fruits[2]}',\n",
    "      f'Last item: {fruits[-1]}',\n",
    "      f'Second-to-last item: {fruits[-2]}',\n",
    "      sep= \"\\n\")"
   ]
  },
  {
   "cell_type": "markdown",
   "metadata": {},
   "source": [
    "## List Slicing"
   ]
  },
  {
   "cell_type": "code",
   "execution_count": 11,
   "metadata": {},
   "outputs": [
    {
     "name": "stdout",
     "output_type": "stream",
     "text": [
      "First five elements: [1, 2, 3, 4, 5]\n",
      "Last three elements: [8, 9, 10]\n",
      "Five elements from index 2 to 7: [3, 4, 5, 6, 7, 8]\n",
      "Elements from index -4 to -1: [7, 8, 9, 10]\n"
     ]
    }
   ],
   "source": [
    "list1= list(range(1,11))\n",
    "print(f'First five elements: {list1[:5]}',\n",
    "      f'Last three elements: {list1[-3:]}',\n",
    "      f'Five elements from index 2 to 7: {list1[2:8]}',\n",
    "      f'Elements from index -4 to -1: {list1[-4:]}',\n",
    "      sep= \"\\n\")"
   ]
  }
 ],
 "metadata": {
  "kernelspec": {
   "display_name": "Python 3",
   "language": "python",
   "name": "python3"
  },
  "language_info": {
   "codemirror_mode": {
    "name": "ipython",
    "version": 3
   },
   "file_extension": ".py",
   "mimetype": "text/x-python",
   "name": "python",
   "nbconvert_exporter": "python",
   "pygments_lexer": "ipython3",
   "version": "3.10.12"
  }
 },
 "nbformat": 4,
 "nbformat_minor": 2
}
