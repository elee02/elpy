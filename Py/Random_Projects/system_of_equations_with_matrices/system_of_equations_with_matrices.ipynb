{
 "cells": [
  {
   "cell_type": "code",
   "execution_count": 28,
   "metadata": {},
   "outputs": [
    {
     "name": "stdout",
     "output_type": "stream",
     "text": [
      "Solution: [3.10835904 3.12350017 2.81632099]\n"
     ]
    }
   ],
   "source": [
    "import numpy as np\n",
    "\n",
    "# Define the coefficients matrix A\n",
    "A = np.array([[1/4.7+2, -0.5, -1], \n",
    "              [-0.5, 3, -1],\n",
    "              [1, 1, -2-1/4.7]])\n",
    "\n",
    "# Define the constants vector b\n",
    "b = np.array([2.5, 5, 0])\n",
    "\n",
    "# Solve the system of equations\n",
    "x = np.linalg.solve(A, b)\n",
    "\n",
    "# Print the solution\n",
    "print(\"Solution:\", x)\n"
   ]
  },
  {
   "cell_type": "code",
   "execution_count": 27,
   "metadata": {},
   "outputs": [
    {
     "name": "stdout",
     "output_type": "stream",
     "text": [
      "[[ 0.71163296  0.26585533 -0.44174951]\n",
      " [ 0.26585533  0.49177237 -0.34238944]\n",
      " [ 0.44174951  0.34238944 -0.80629357]]\n"
     ]
    }
   ],
   "source": [
    "# Compute the inverse of A\n",
    "A_inv = np.linalg.inv(A)\n",
    "b = np.array([[2.5],\n",
    "             [5],\n",
    "             [0]])\n",
    "X = A_inv @ b\n",
    "print(A_inv)"
   ]
  }
 ],
 "metadata": {
  "kernelspec": {
   "display_name": "Python 3",
   "language": "python",
   "name": "python3"
  },
  "language_info": {
   "codemirror_mode": {
    "name": "ipython",
    "version": 3
   },
   "file_extension": ".py",
   "mimetype": "text/x-python",
   "name": "python",
   "nbconvert_exporter": "python",
   "pygments_lexer": "ipython3",
   "version": "3.10.12"
  }
 },
 "nbformat": 4,
 "nbformat_minor": 2
}
